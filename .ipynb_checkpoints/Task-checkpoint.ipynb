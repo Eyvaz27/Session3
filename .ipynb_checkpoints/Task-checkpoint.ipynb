{
 "cells": [
  {
   "cell_type": "markdown",
   "metadata": {},
   "source": [
    "### Homework"
   ]
  },
  {
   "cell_type": "code",
   "execution_count": 21,
   "metadata": {},
   "outputs": [],
   "source": [
    "import numpy as np\n",
    "import pandas as pd\n",
    "from scipy import stats\n",
    "from scipy.stats import norm\n",
    "from math import sqrt"
   ]
  },
  {
   "cell_type": "code",
   "execution_count": 22,
   "metadata": {},
   "outputs": [],
   "source": [
    "number_of_observations = 10\n",
    "mean = 27\n",
    "variance = 20\n",
    "alpha = 0.05"
   ]
  },
  {
   "cell_type": "markdown",
   "metadata": {},
   "source": [
    "Null Hypothesis (H0): mu = 30\n",
    "\n",
    "Alternative Hypothesis (H1): mu != 30 \n",
    "\n",
    "Two-tailed test"
   ]
  },
  {
   "cell_type": "code",
   "execution_count": 35,
   "metadata": {},
   "outputs": [
    {
     "name": "stdout",
     "output_type": "stream",
     "text": [
      "Z score :  -2.12\n"
     ]
    }
   ],
   "source": [
    "# variance is known: \n",
    "# Z - statistics:\n",
    "hypothesized_mean = 30\n",
    "std_error = sqrt(variance)/sqrt(number_of_observations)\n",
    "z = (mean - hypothesized_mean)/std_error\n",
    "print('Z score : ', round(z, 2))"
   ]
  },
  {
   "cell_type": "markdown",
   "metadata": {},
   "source": [
    "round(number, ndigits)\n",
    "\n",
    "number - the number to be rounded\n",
    "\n",
    "ndigits (optional) - number up to which the given number is rounded; defaults to 0"
   ]
  },
  {
   "cell_type": "markdown",
   "metadata": {},
   "source": [
    "Calculating z-score for significance level : alpha/2\n",
    "\n",
    "norm.ppf is similar to statistics.NormalDist(mu=0, sigma=1).inv_cdf(1-alpha/2)"
   ]
  },
  {
   "cell_type": "code",
   "execution_count": 39,
   "metadata": {},
   "outputs": [
    {
     "name": "stdout",
     "output_type": "stream",
     "text": [
      "Critical values :  -1.96  and  1.96\n"
     ]
    }
   ],
   "source": [
    "critical_value = norm.ppf(1-alpha/2)  \n",
    "critical_value = round(critical_value, 2)\n",
    "print('Critical values : ', -critical_value, ' and ', critical_value)"
   ]
  },
  {
   "cell_type": "code",
   "execution_count": 41,
   "metadata": {},
   "outputs": [
    {
     "name": "stdout",
     "output_type": "stream",
     "text": [
      "Reject null hypothesis\n"
     ]
    }
   ],
   "source": [
    "if z <= -critical_value and z >= critical_value:\n",
    "    print('Fail to reject null hypothesis')\n",
    "else:\n",
    "    print('Reject null hypothesis')"
   ]
  },
  {
   "cell_type": "markdown",
   "metadata": {},
   "source": [
    "p-value for two-sided test:"
   ]
  },
  {
   "cell_type": "code",
   "execution_count": 43,
   "metadata": {},
   "outputs": [
    {
     "name": "stdout",
     "output_type": "stream",
     "text": [
      "P value for two-sided test :  0.033894853524689246\n"
     ]
    }
   ],
   "source": [
    "p_value = norm.sf(abs(z)) * 2\n",
    "print('P value for two-sided test : ', p_value)"
   ]
  },
  {
   "cell_type": "code",
   "execution_count": 44,
   "metadata": {},
   "outputs": [
    {
     "name": "stdout",
     "output_type": "stream",
     "text": [
      "Reject null Hypothesis\n"
     ]
    }
   ],
   "source": [
    "if alpha >= p_value :\n",
    "    print('Reject null Hypothesis')\n",
    "else:\n",
    "    print('Fail to reject null hypothesis')"
   ]
  },
  {
   "cell_type": "code",
   "execution_count": null,
   "metadata": {},
   "outputs": [],
   "source": []
  }
 ],
 "metadata": {
  "kernelspec": {
   "display_name": "Python 3.7.3 64-bit ('base': conda)",
   "language": "python",
   "name": "python37364bitbasecondaf4d2c1c6ddf44507ab5e138fabf65054"
  },
  "language_info": {
   "codemirror_mode": {
    "name": "ipython",
    "version": 3
   },
   "file_extension": ".py",
   "mimetype": "text/x-python",
   "name": "python",
   "nbconvert_exporter": "python",
   "pygments_lexer": "ipython3",
   "version": "3.7.3"
  }
 },
 "nbformat": 4,
 "nbformat_minor": 2
}
